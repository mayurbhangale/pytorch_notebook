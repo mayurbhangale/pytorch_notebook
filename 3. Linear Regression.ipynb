{
 "cells": [
  {
   "cell_type": "markdown",
   "metadata": {},
   "source": [
    "## Linear Regression with PyTorch"
   ]
  },
  {
   "cell_type": "markdown",
   "metadata": {},
   "source": [
    "- Allows us to understand relationship between two continous variables\n",
    "- Example:\n",
    "    x: Independent Variable\n",
    "      - weight\n",
    "    y: dependent Variable\n",
    "      - height\n",
    "- y = mx + c"
   ]
  },
  {
   "cell_type": "code",
   "execution_count": 2,
   "metadata": {
    "collapsed": true
   },
   "outputs": [],
   "source": [
    "import numpy as np\n",
    "import matplotlib.pyplot as plt"
   ]
  },
  {
   "cell_type": "code",
   "execution_count": 3,
   "metadata": {},
   "outputs": [
    {
     "data": {
      "image/png": "[encoded data removed]",
      "text/plain": [
       "<matplotlib.figure.Figure at 0x1122f74e0>"
      ]
     },
     "metadata": {},
     "output_type": "display_data"
    }
   ],
   "source": [
    "np.random.seed(1)\n",
    "n = 50\n",
    "x = np.random.randn(n)\n",
    "y = x * np.random.rand(n)\n",
    "\n",
    "colors = np.random.rand(n)\n",
    "plt.plot(np.unique(x), np.poly1d(np.polyfit(x, y, 1))(np.unique(x)))\n",
    "\n",
    "plt.scatter(x, y, c=colors, alpha=0.5)\n",
    "plt.show()"
   ]
  },
  {
   "cell_type": "markdown",
   "metadata": {},
   "source": [
    "### Aim:\n",
    "- Minimize distance between points and line ( y = mx + c)\n",
    "- Adjusting\n",
    "    1. Coefficient/Slope: m\n",
    "    2. Bias/Intercept: c"
   ]
  },
  {
   "cell_type": "markdown",
   "metadata": {},
   "source": [
    "## Example"
   ]
  },
  {
   "cell_type": "markdown",
   "metadata": {},
   "source": [
    "Assuming the relation/equation we are looking for is ``y = 2x + 1``\n",
    "- So here\n",
    "    - Coefficient/slope = 2\n",
    "    - Bias/Intercept = 1"
   ]
  },
  {
   "cell_type": "code",
   "execution_count": 4,
   "metadata": {},
   "outputs": [
    {
     "data": {
      "text/plain": [
       "[0, 1, 2, 3, 4, 5, 6, 7, 8, 9, 10]"
      ]
     },
     "execution_count": 4,
     "metadata": {},
     "output_type": "execute_result"
    }
   ],
   "source": [
    "#Toy data\n",
    "x_values = [ i for i in range(11)]\n",
    "x_values"
   ]
  },
  {
   "cell_type": "code",
   "execution_count": 5,
   "metadata": {},
   "outputs": [
    {
     "data": {
      "text/plain": [
       "(11,)"
      ]
     },
     "execution_count": 5,
     "metadata": {},
     "output_type": "execute_result"
    }
   ],
   "source": [
    "#convert to numpy\n",
    "x_train = np.array(x_values, dtype=np.float32)\n",
    "x_train.shape"
   ]
  },
  {
   "cell_type": "code",
   "execution_count": 6,
   "metadata": {},
   "outputs": [
    {
     "data": {
      "text/plain": [
       "(11, 1)"
      ]
     },
     "execution_count": 6,
     "metadata": {},
     "output_type": "execute_result"
    }
   ],
   "source": [
    "# 2D Required\n",
    "x_train = x_train.reshape(-1, 1)\n",
    "x_train.shape"
   ]
  },
  {
   "cell_type": "markdown",
   "metadata": {},
   "source": [
    "Equation: y = 2x + 1"
   ]
  },
  {
   "cell_type": "code",
   "execution_count": 7,
   "metadata": {},
   "outputs": [
    {
     "data": {
      "text/plain": [
       "[1, 3, 5, 7, 9, 11, 13, 15, 17, 19, 21]"
      ]
     },
     "execution_count": 7,
     "metadata": {},
     "output_type": "execute_result"
    }
   ],
   "source": [
    "y_values = [ 2*i + 1 for i in x_values ]\n",
    "y_values"
   ]
  },
  {
   "cell_type": "code",
   "execution_count": 8,
   "metadata": {},
   "outputs": [
    {
     "data": {
      "text/plain": [
       "[1, 3, 5, 7, 9, 11, 13, 15, 17, 19, 21]"
      ]
     },
     "execution_count": 8,
     "metadata": {},
     "output_type": "execute_result"
    }
   ],
   "source": [
    "#If you are weak in list iterators..\n",
    "y_values = []\n",
    "for i in x_values:\n",
    "    result = 2*i + 1\n",
    "    y_values.append(result)\n",
    "    \n",
    "y_values"
   ]
  },
  {
   "cell_type": "code",
   "execution_count": 9,
   "metadata": {},
   "outputs": [
    {
     "data": {
      "text/plain": [
       "(11,)"
      ]
     },
     "execution_count": 9,
     "metadata": {},
     "output_type": "execute_result"
    }
   ],
   "source": [
    "y_train = np.array(y_values, dtype=np.float32)\n",
    "y_train.shape"
   ]
  },
  {
   "cell_type": "code",
   "execution_count": 10,
   "metadata": {},
   "outputs": [
    {
     "data": {
      "text/plain": [
       "(11, 1)"
      ]
     },
     "execution_count": 10,
     "metadata": {},
     "output_type": "execute_result"
    }
   ],
   "source": [
    "y_train = y_train.reshape(-1, 1)\n",
    "y_train.shape"
   ]
  },
  {
   "cell_type": "markdown",
   "metadata": {},
   "source": [
    "### Lets Build Model "
   ]
  },
  {
   "cell_type": "code",
   "execution_count": 11,
   "metadata": {
    "collapsed": true
   },
   "outputs": [],
   "source": [
    "import torch\n",
    "import torch.nn as nn\n",
    "from torch.autograd import Variable"
   ]
  },
  {
   "cell_type": "markdown",
   "metadata": {},
   "source": [
    "#### Model\n",
    "1. Linear model\n",
    "    - True equation: y = 2x + 1\n",
    "2. Forward\n",
    "    - Example\n",
    "        - Input x = 1\n",
    "        - Output y' = ?"
   ]
  },
  {
   "cell_type": "code",
   "execution_count": 12,
   "metadata": {
    "collapsed": true
   },
   "outputs": [],
   "source": [
    "class LinearRegressionModel(nn.Module):\n",
    "    def __init__(self, input_size, output_size):\n",
    "        super(LinearRegressionModel, self).__init__()\n",
    "        self.linear = nn.Linear(input_dim, output_dim)\n",
    "        #here input_dim= x, output_dim= y\n",
    "        \n",
    "    def forward(self, x):\n",
    "        out = self.linear(x)\n",
    "        return out"
   ]
  },
  {
   "cell_type": "markdown",
   "metadata": {},
   "source": [
    "#### Instantiate Model\n",
    " - Input: [0, 1, 2, 3, 4, 5, 6, 7, 8, 9, 10]\n",
    " - Desired output: [1, 3, 5, 7, 9, 11, 13, 15, 17, 19, 21]"
   ]
  },
  {
   "cell_type": "code",
   "execution_count": 13,
   "metadata": {
    "collapsed": true
   },
   "outputs": [],
   "source": [
    "input_dim = 1\n",
    "output_dim = 1\n",
    "\n",
    "model = LinearRegressionModel(input_dim, output_dim)"
   ]
  },
  {
   "cell_type": "markdown",
   "metadata": {},
   "source": [
    "#### Instantiate Loss Class\n",
    "- MSE Loss: Mean Squared Error\n",
    "-\\begin{equation*}\n",
    " MSE = 1/n \\sum_{i=1}^n (y'_i - y_i)\n",
    "\\end{equation*}\n",
    "    - y' : prediction\n",
    "    - y : true value\n",
    "    \n"
   ]
  },
  {
   "cell_type": "code",
   "execution_count": 14,
   "metadata": {
    "collapsed": true
   },
   "outputs": [],
   "source": [
    "criterion = nn.MSELoss()"
   ]
  },
  {
   "cell_type": "markdown",
   "metadata": {},
   "source": [
    "#### Instantiate Optimizer Class\n",
    "- Simplified equation\n",
    "    - \\begin{equation*}\n",
    "       \\theta = \\theta - \\eta . \\nabla_\\theta\n",
    "       \\end{equation*}\n",
    "        - θ : parameters (our variables)\n",
    "        - η : Learning rate\n",
    "        - \\begin{align}\n",
    "        \\nabla_\\theta : \\text{Parameters gradients}\n",
    "          \\end{align}\n",
    "          \n",
    "- Even Simpler equation\n",
    "    - ``parameters = parameters - learning_rate * parameters_gradients``\n",
    "        - parameters: m and c in y = mx + c\n",
    "        - desired parameters: m = 2 and x = 1 in y = 2x + 1"
   ]
  },
  {
   "cell_type": "code",
   "execution_count": 15,
   "metadata": {},
   "outputs": [],
   "source": [
    "learning_rate = 0.01\n",
    "\n",
    "optimizer = torch.optim.SGD(model.parameters(), lr=learning_rate)"
   ]
  },
  {
   "cell_type": "markdown",
   "metadata": {},
   "source": [
    "### Train Model\n",
    "\n",
    "- 1 epoch: going through whole x_train data once\n",
    "     - 100 epochs: \n",
    "         - 100x mapping x_train = [0, 1, 2, 3, 4, 5, 6, 7, 8, 9, 10]\n",
    "- Process\n",
    "    1. Convert inputs/labels to variables\n",
    "    2. Clear gradient buffers\n",
    "    3. Get output, given inputs\n",
    "    4. Get loss\n",
    "    5. Get gradients wrt params.\n",
    "    6. Update params using gradients\n",
    "        - ``parameters = parameters - learning_rate * parameters_gradients``\n",
    "    7. Repeat"
   ]
  },
  {
   "cell_type": "code",
   "execution_count": 16,
   "metadata": {},
   "outputs": [
    {
     "name": "stdout",
     "output_type": "stream",
     "text": [
      "epoch 1, loss 117.58783721923828\n",
      "epoch 2, loss 9.804895401000977\n",
      "epoch 3, loss 1.0109996795654297\n",
      "epoch 4, loss 0.29135027527809143\n",
      "epoch 5, loss 0.2303183227777481\n",
      "epoch 6, loss 0.22303366661071777\n",
      "epoch 7, loss 0.22015859186649323\n",
      "epoch 8, loss 0.21766872704029083\n",
      "epoch 9, loss 0.21523556113243103\n",
      "epoch 10, loss 0.2128317952156067\n",
      "epoch 11, loss 0.21045516431331635\n",
      "epoch 12, loss 0.20810498297214508\n",
      "epoch 13, loss 0.20578111708164215\n",
      "epoch 14, loss 0.2034831941127777\n",
      "epoch 15, loss 0.20121091604232788\n",
      "epoch 16, loss 0.19896413385868073\n",
      "epoch 17, loss 0.19674238562583923\n",
      "epoch 18, loss 0.19454528391361237\n",
      "epoch 19, loss 0.19237279891967773\n",
      "epoch 20, loss 0.19022464752197266\n",
      "epoch 21, loss 0.1881004273891449\n",
      "epoch 22, loss 0.18599995970726013\n",
      "epoch 23, loss 0.1839229017496109\n",
      "epoch 24, loss 0.1818690150976181\n",
      "epoch 25, loss 0.179838165640831\n",
      "epoch 26, loss 0.17782999575138092\n",
      "epoch 27, loss 0.17584411799907684\n",
      "epoch 28, loss 0.17388050258159637\n",
      "epoch 29, loss 0.17193876206874847\n",
      "epoch 30, loss 0.17001886665821075\n",
      "epoch 31, loss 0.1681203544139862\n",
      "epoch 32, loss 0.16624288260936737\n",
      "epoch 33, loss 0.16438652575016022\n",
      "epoch 34, loss 0.16255074739456177\n",
      "epoch 35, loss 0.16073571145534515\n",
      "epoch 36, loss 0.15894068777561188\n",
      "epoch 37, loss 0.15716584026813507\n",
      "epoch 38, loss 0.15541084110736847\n",
      "epoch 39, loss 0.15367533266544342\n",
      "epoch 40, loss 0.1519593596458435\n",
      "epoch 41, loss 0.15026240050792694\n",
      "epoch 42, loss 0.14858442544937134\n",
      "epoch 43, loss 0.14692513644695282\n",
      "epoch 44, loss 0.1452844738960266\n",
      "epoch 45, loss 0.14366227388381958\n",
      "epoch 46, loss 0.14205783605575562\n",
      "epoch 47, loss 0.14047157764434814\n",
      "epoch 48, loss 0.138902947306633\n",
      "epoch 49, loss 0.1373518854379654\n",
      "epoch 50, loss 0.13581813871860504\n",
      "epoch 51, loss 0.1343013048171997\n",
      "epoch 52, loss 0.1328016221523285\n",
      "epoch 53, loss 0.13131876289844513\n",
      "epoch 54, loss 0.1298523098230362\n",
      "epoch 55, loss 0.1284022331237793\n",
      "epoch 56, loss 0.1269683986902237\n",
      "epoch 57, loss 0.12555049359798431\n",
      "epoch 58, loss 0.12414859980344772\n",
      "epoch 59, loss 0.12276218086481094\n",
      "epoch 60, loss 0.12139137089252472\n",
      "epoch 61, loss 0.12003576010465622\n",
      "epoch 62, loss 0.11869537085294724\n",
      "epoch 63, loss 0.11736994236707687\n",
      "epoch 64, loss 0.11605920642614365\n",
      "epoch 65, loss 0.11476325988769531\n",
      "epoch 66, loss 0.11348175257444382\n",
      "epoch 67, loss 0.11221451312303543\n",
      "epoch 68, loss 0.1109614372253418\n",
      "epoch 69, loss 0.10972230136394501\n",
      "epoch 70, loss 0.1084970235824585\n",
      "epoch 71, loss 0.10728544741868973\n",
      "epoch 72, loss 0.10608752071857452\n",
      "epoch 73, loss 0.1049027368426323\n",
      "epoch 74, loss 0.10373137146234512\n",
      "epoch 75, loss 0.10257303714752197\n",
      "epoch 76, loss 0.10142762213945389\n",
      "epoch 77, loss 0.10029497742652893\n",
      "epoch 78, loss 0.09917495399713516\n",
      "epoch 79, loss 0.09806749224662781\n",
      "epoch 80, loss 0.09697243571281433\n",
      "epoch 81, loss 0.09588944911956787\n",
      "epoch 82, loss 0.09481871873140335\n",
      "epoch 83, loss 0.0937599167227745\n",
      "epoch 84, loss 0.0927128791809082\n",
      "epoch 85, loss 0.09167764335870743\n",
      "epoch 86, loss 0.09065386652946472\n",
      "epoch 87, loss 0.08964157849550247\n",
      "epoch 88, loss 0.08864055573940277\n",
      "epoch 89, loss 0.08765068650245667\n",
      "epoch 90, loss 0.08667191863059998\n",
      "epoch 91, loss 0.08570404350757599\n",
      "epoch 92, loss 0.08474702388048172\n",
      "epoch 93, loss 0.08380064368247986\n",
      "epoch 94, loss 0.08286493271589279\n",
      "epoch 95, loss 0.08193952590227127\n",
      "epoch 96, loss 0.08102452009916306\n",
      "epoch 97, loss 0.08011973649263382\n",
      "epoch 98, loss 0.07922504097223282\n",
      "epoch 99, loss 0.07834029197692871\n",
      "epoch 100, loss 0.07746557146310806\n"
     ]
    }
   ],
   "source": [
    "epochs = 100\n",
    "\n",
    "for epoch in range(epochs):\n",
    "    epoch += 1\n",
    "    \n",
    "    #Convert numpy array to torch Variable\n",
    "    inputs = Variable(torch.from_numpy(x_train))\n",
    "    labels = Variable(torch.from_numpy(y_train))\n",
    "    \n",
    "    #Clear gradient wrt params\n",
    "    optimizer.zero_grad()\n",
    "    \n",
    "    #forward pass to get output\n",
    "    outputs = model(inputs)\n",
    "    \n",
    "    #calculate loss\n",
    "    loss = criterion(outputs, labels)\n",
    "    \n",
    "    #Get gradients wrt params\n",
    "    loss.backward()\n",
    "    \n",
    "    #update params\n",
    "    optimizer.step()\n",
    "    \n",
    "    print('epoch {}, loss {}'.format(epoch, loss.data[0]))"
   ]
  },
  {
   "cell_type": "markdown",
   "metadata": {},
   "source": [
    "### Compare Results\n"
   ]
  },
  {
   "cell_type": "code",
   "execution_count": 17,
   "metadata": {},
   "outputs": [
    {
     "data": {
      "text/plain": [
       "array([[  0.48225662],\n",
       "       [  2.55681634],\n",
       "       [  4.63137579],\n",
       "       [  6.70593548],\n",
       "       [  8.78049564],\n",
       "       [ 10.85505486],\n",
       "       [ 12.92961502],\n",
       "       [ 15.00417423],\n",
       "       [ 17.07873344],\n",
       "       [ 19.15329361],\n",
       "       [ 21.22785378]], dtype=float32)"
      ]
     },
     "execution_count": 17,
     "metadata": {},
     "output_type": "execute_result"
    }
   ],
   "source": [
    "predicted = model(Variable(torch.from_numpy(x_train))).data.numpy()\n",
    "predicted"
   ]
  },
  {
   "cell_type": "code",
   "execution_count": 40,
   "metadata": {},
   "outputs": [
    {
     "data": {
      "text/plain": [
       "array([[  1.],\n",
       "       [  3.],\n",
       "       [  5.],\n",
       "       [  7.],\n",
       "       [  9.],\n",
       "       [ 11.],\n",
       "       [ 13.],\n",
       "       [ 15.],\n",
       "       [ 17.],\n",
       "       [ 19.],\n",
       "       [ 21.]], dtype=float32)"
      ]
     },
     "execution_count": 40,
     "metadata": {},
     "output_type": "execute_result"
    }
   ],
   "source": [
    "y_train"
   ]
  },
  {
   "cell_type": "markdown",
   "metadata": {},
   "source": [
    "### Visualize"
   ]
  },
  {
   "cell_type": "code",
   "execution_count": 18,
   "metadata": {},
   "outputs": [
    {
     "data": {
      "image/png": "[encoded data removed]",
      "text/plain": [
       "<matplotlib.figure.Figure at 0x1189a62b0>"
      ]
     },
     "metadata": {},
     "output_type": "display_data"
    }
   ],
   "source": [
    "plt.clf()\n",
    "\n",
    "plt.plot(x_train, y_train, 'go', label='True Data', alpha = 0.5)\n",
    "\n",
    "plt.plot(x_train, predicted, '--', label='Predicted', alpha = 0.5)\n",
    "\n",
    "plt.legend(loc='best')\n",
    "plt.show()"
   ]
  },
  {
   "cell_type": "code",
   "execution_count": 46,
   "metadata": {
    "collapsed": true
   },
   "outputs": [],
   "source": [
    "### Save model\n",
    "save_model = False\n",
    "if save_model is True:\n",
    "    #saves only params\n",
    "    torch.save(model.state_dict(), 'linear_model.pk1')"
   ]
  },
  {
   "cell_type": "code",
   "execution_count": 47,
   "metadata": {
    "collapsed": true
   },
   "outputs": [],
   "source": [
    "###Load model"
   ]
  },
  {
   "cell_type": "code",
   "execution_count": 49,
   "metadata": {
    "collapsed": true
   },
   "outputs": [],
   "source": [
    "load_model = False\n",
    "if load_model is True:\n",
    "    model.load_state_dict(torch.load('linear_model.pk1'))"
   ]
  },
  {
   "cell_type": "code",
   "execution_count": null,
   "metadata": {
    "collapsed": true
   },
   "outputs": [],
   "source": []
  }
 ],
 "metadata": {
  "anaconda-cloud": {},
  "kernelspec": {
   "display_name": "Python 3",
   "language": "python",
   "name": "python3"
  },
  "language_info": {
   "codemirror_mode": {
    "name": "ipython",
    "version": 3
   },
   "file_extension": ".py",
   "mimetype": "text/x-python",
   "name": "python",
   "nbconvert_exporter": "python",
   "pygments_lexer": "ipython3",
   "version": "3.5.3"
  }
 },
 "nbformat": 4,
 "nbformat_minor": 2
}
