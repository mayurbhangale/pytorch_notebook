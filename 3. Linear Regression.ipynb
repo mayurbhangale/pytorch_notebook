{
 "cells": [
  {
   "cell_type": "markdown",
   "metadata": {},
   "source": [
    "## Linear Regression with PyTorch"
   ]
  },
  {
   "cell_type": "markdown",
   "metadata": {},
   "source": [
    "- Allows us to understand relationship between two continous variables\n",
    "- Example:\n",
    "    x: Independent Variable\n",
    "      - weight\n",
    "    y: dependent Variable\n",
    "      - height\n",
    "- y = mx + c"
   ]
  },
  {
   "cell_type": "code",
   "execution_count": 10,
   "metadata": {
    "collapsed": true
   },
   "outputs": [],
   "source": [
    "import numpy as np\n",
    "import matplotlib.pyplot as plt"
   ]
  },
  {
   "cell_type": "code",
   "execution_count": 11,
   "metadata": {},
   "outputs": [
    {
     "data": {
      "image/png": "[encoded data removed]",
      "text/plain": [
       "<matplotlib.figure.Figure at 0x1069f7390>"
      ]
     },
     "metadata": {},
     "output_type": "display_data"
    }
   ],
   "source": [
    "np.random.seed(1)\n",
    "n = 50\n",
    "x = np.random.randn(n)\n",
    "y = x * np.random.rand(n)\n",
    "\n",
    "colors = np.random.rand(n)\n",
    "plt.plot(np.unique(x), np.poly1d(np.polyfit(x, y, 1))(np.unique(x)))\n",
    "\n",
    "plt.scatter(x, y, c=colors, alpha=0.5)\n",
    "plt.show()"
   ]
  },
  {
   "cell_type": "markdown",
   "metadata": {},
   "source": [
    "### Aim:\n",
    "- Minimize distance between points and line ( y = mx + c)\n",
    "- Adjusting\n",
    "    1. Coefficient/Slope: m\n",
    "    2. Bias/Intercept: c"
   ]
  },
  {
   "cell_type": "markdown",
   "metadata": {},
   "source": [
    "## Example"
   ]
  },
  {
   "cell_type": "markdown",
   "metadata": {},
   "source": [
    "Assuming the relation/equation we are looking for is ``y = 2x + 1``\n",
    "- So here\n",
    "    - Coefficient/slope = 2\n",
    "    - Bias/Intercept = 1"
   ]
  },
  {
   "cell_type": "code",
   "execution_count": 12,
   "metadata": {},
   "outputs": [
    {
     "data": {
      "text/plain": [
       "[0, 1, 2, 3, 4, 5, 6, 7, 8, 9, 10]"
      ]
     },
     "execution_count": 12,
     "metadata": {},
     "output_type": "execute_result"
    }
   ],
   "source": [
    "#Toy data\n",
    "x_values = [ i for i in range(11)]\n",
    "x_values"
   ]
  },
  {
   "cell_type": "code",
   "execution_count": 13,
   "metadata": {},
   "outputs": [
    {
     "data": {
      "text/plain": [
       "(11,)"
      ]
     },
     "execution_count": 13,
     "metadata": {},
     "output_type": "execute_result"
    }
   ],
   "source": [
    "#convert to numpy\n",
    "x_train = np.array(x_values, dtype=np.float32)\n",
    "x_train.shape"
   ]
  },
  {
   "cell_type": "code",
   "execution_count": 14,
   "metadata": {},
   "outputs": [
    {
     "data": {
      "text/plain": [
       "(11, 1)"
      ]
     },
     "execution_count": 14,
     "metadata": {},
     "output_type": "execute_result"
    }
   ],
   "source": [
    "# 2D Required\n",
    "x_train = x_train.reshape(-1, 1)\n",
    "x_train.shape"
   ]
  },
  {
   "cell_type": "markdown",
   "metadata": {},
   "source": [
    "Equation: y = 2x + 1"
   ]
  },
  {
   "cell_type": "code",
   "execution_count": 15,
   "metadata": {},
   "outputs": [
    {
     "data": {
      "text/plain": [
       "[1, 3, 5, 7, 9, 11, 13, 15, 17, 19, 21]"
      ]
     },
     "execution_count": 15,
     "metadata": {},
     "output_type": "execute_result"
    }
   ],
   "source": [
    "y_values = [ 2*i + 1 for i in x_values ]\n",
    "y_values"
   ]
  },
  {
   "cell_type": "code",
   "execution_count": 16,
   "metadata": {},
   "outputs": [
    {
     "data": {
      "text/plain": [
       "[1, 3, 5, 7, 9, 11, 13, 15, 17, 19, 21]"
      ]
     },
     "execution_count": 16,
     "metadata": {},
     "output_type": "execute_result"
    }
   ],
   "source": [
    "#If you are weak in list iterators..\n",
    "y_values = []\n",
    "for i in x_values:\n",
    "    result = 2*i + 1\n",
    "    y_values.append(result)\n",
    "    \n",
    "y_values"
   ]
  },
  {
   "cell_type": "code",
   "execution_count": 17,
   "metadata": {},
   "outputs": [
    {
     "data": {
      "text/plain": [
       "(11,)"
      ]
     },
     "execution_count": 17,
     "metadata": {},
     "output_type": "execute_result"
    }
   ],
   "source": [
    "y_train = np.array(y_values, dtype=np.float32)\n",
    "y_train.shape"
   ]
  },
  {
   "cell_type": "code",
   "execution_count": 18,
   "metadata": {},
   "outputs": [
    {
     "data": {
      "text/plain": [
       "(11, 1)"
      ]
     },
     "execution_count": 18,
     "metadata": {},
     "output_type": "execute_result"
    }
   ],
   "source": [
    "y_train = y_train.reshape(-1, 1)\n",
    "y_train.shape"
   ]
  },
  {
   "cell_type": "markdown",
   "metadata": {},
   "source": [
    "### Lets Build Model "
   ]
  },
  {
   "cell_type": "code",
   "execution_count": 19,
   "metadata": {
    "collapsed": true
   },
   "outputs": [],
   "source": [
    "import torch\n",
    "import torch.nn as nn\n",
    "from torch.autograd import Variable"
   ]
  },
  {
   "cell_type": "markdown",
   "metadata": {},
   "source": [
    "#### Model\n",
    "1. Linear model\n",
    "    - True equation: y = 2x + 1\n",
    "2. Forward\n",
    "    - Example\n",
    "        - Input x = 1\n",
    "        - Output y' = ?"
   ]
  },
  {
   "cell_type": "code",
   "execution_count": 20,
   "metadata": {
    "collapsed": true
   },
   "outputs": [],
   "source": [
    "class LinearRegressionModel(nn.Module):\n",
    "    def __init__(self, input_size, output_size):\n",
    "        super(LinearRegressionModel, self).__init__()\n",
    "        self.linear = nn.Linear(input_dim, output_dim)\n",
    "        #here input_dim= x, output_dim= y\n",
    "        \n",
    "    def forward(self, x):\n",
    "        out = self.linear(x)\n",
    "        return out"
   ]
  },
  {
   "cell_type": "markdown",
   "metadata": {},
   "source": [
    "#### Instantiate Model\n",
    " - Input: [0, 1, 2, 3, 4, 5, 6, 7, 8, 9, 10]\n",
    " - Desired output: [1, 3, 5, 7, 9, 11, 13, 15, 17, 19, 21]"
   ]
  },
  {
   "cell_type": "code",
   "execution_count": 21,
   "metadata": {
    "collapsed": true
   },
   "outputs": [],
   "source": [
    "input_dim = 1\n",
    "output_dim = 1\n",
    "\n",
    "model = LinearRegressionModel(input_dim, output_dim)"
   ]
  },
  {
   "cell_type": "markdown",
   "metadata": {},
   "source": [
    "#### Instantiate Loss Class\n",
    "- MSE Loss: Mean Squared Error\n",
    "-\\begin{equation*}\n",
    " MSE = 1/n \\sum_{i=1}^n (y'_i - y_i)\n",
    "\\end{equation*}\n",
    "    - y' : prediction\n",
    "    - y : true value\n",
    "    \n"
   ]
  },
  {
   "cell_type": "code",
   "execution_count": 22,
   "metadata": {
    "collapsed": true
   },
   "outputs": [],
   "source": [
    "criterion = nn.MSELoss()"
   ]
  },
  {
   "cell_type": "markdown",
   "metadata": {},
   "source": [
    "#### Instantiate Optimizer Class\n",
    "- Simplified equation\n",
    "    - \\begin{equation*}\n",
    "       \\theta = \\theta - \\eta . \\nabla_\\theta\n",
    "       \\end{equation*}\n",
    "        - θ : parameters (our variables)\n",
    "        - η : Learning rate\n",
    "        - \\begin{align}\n",
    "        \\nabla_\\theta : \\text{Parameters gradients}\n",
    "          \\end{align}\n",
    "          \n",
    "- Even Simpler equation\n",
    "    - ``parameters = parameters - learning_rate * parameters_gradients``\n",
    "        - parameters: m and c in y = mx + c\n",
    "        - desired parameters: m = 2 and x = 1 in y = 2x + 1"
   ]
  },
  {
   "cell_type": "code",
   "execution_count": 23,
   "metadata": {
    "collapsed": true
   },
   "outputs": [],
   "source": [
    "learning_rate = 0.01\n",
    "\n",
    "optimizer = torch.optim.SGD(model.parameters(), lr=learning_rate)"
   ]
  },
  {
   "cell_type": "markdown",
   "metadata": {},
   "source": [
    "### Train Model\n",
    "\n",
    "- 1 epoch: going through whole x_train data once\n",
    "     - 100 epochs: \n",
    "         - 100x mapping x_train = [0, 1, 2, 3, 4, 5, 6, 7, 8, 9, 10]\n",
    "- Process\n",
    "    1. Convert inputs/labels to variables\n",
    "    2. Clear gradient buffers\n",
    "    3. Get output, given inputs\n",
    "    4. Get loss\n",
    "    5. Get gradients wrt params.\n",
    "    6. Update params using gradients\n",
    "        - ``parameters = parameters - learning_rate * parameters_gradients``\n",
    "    7. Repeat"
   ]
  },
  {
   "cell_type": "code",
   "execution_count": 24,
   "metadata": {},
   "outputs": [
    {
     "name": "stdout",
     "output_type": "stream",
     "text": [
      "epoch 1, loss 61.150272369384766\n",
      "epoch 2, loss 5.553335666656494\n",
      "epoch 3, loss 1.012154221534729\n",
      "epoch 4, loss 0.6355008482933044\n",
      "epoch 5, loss 0.5986039042472839\n",
      "epoch 6, loss 0.5894885659217834\n",
      "epoch 7, loss 0.5827074646949768\n",
      "epoch 8, loss 0.5761843323707581\n",
      "epoch 9, loss 0.5697488784790039\n",
      "epoch 10, loss 0.5633864998817444\n",
      "epoch 11, loss 0.5570952892303467\n",
      "epoch 12, loss 0.5508741736412048\n",
      "epoch 13, loss 0.5447227358818054\n",
      "epoch 14, loss 0.538640022277832\n",
      "epoch 15, loss 0.532625138759613\n",
      "epoch 16, loss 0.5266773700714111\n",
      "epoch 17, loss 0.5207960605621338\n",
      "epoch 18, loss 0.5149802565574646\n",
      "epoch 19, loss 0.5092295408248901\n",
      "epoch 20, loss 0.5035431981086731\n",
      "epoch 21, loss 0.4979200065135956\n",
      "epoch 22, loss 0.49235981702804565\n",
      "epoch 23, loss 0.4868621528148651\n",
      "epoch 24, loss 0.48142531514167786\n",
      "epoch 25, loss 0.4760492444038391\n",
      "epoch 26, loss 0.4707331955432892\n",
      "epoch 27, loss 0.4654766023159027\n",
      "epoch 28, loss 0.46027860045433044\n",
      "epoch 29, loss 0.4551388919353485\n",
      "epoch 30, loss 0.4500565826892853\n",
      "epoch 31, loss 0.4450308084487915\n",
      "epoch 32, loss 0.440061092376709\n",
      "epoch 33, loss 0.43514689803123474\n",
      "epoch 34, loss 0.4302876591682434\n",
      "epoch 35, loss 0.42548277974128723\n",
      "epoch 36, loss 0.42073145508766174\n",
      "epoch 37, loss 0.4160333573818207\n",
      "epoch 38, loss 0.41138744354248047\n",
      "epoch 39, loss 0.4067936837673187\n",
      "epoch 40, loss 0.40225106477737427\n",
      "epoch 41, loss 0.3977591395378113\n",
      "epoch 42, loss 0.39331749081611633\n",
      "epoch 43, loss 0.3889252841472626\n",
      "epoch 44, loss 0.3845822215080261\n",
      "epoch 45, loss 0.3802875280380249\n",
      "epoch 46, loss 0.37604111433029175\n",
      "epoch 47, loss 0.37184178829193115\n",
      "epoch 48, loss 0.36768943071365356\n",
      "epoch 49, loss 0.3635835349559784\n",
      "epoch 50, loss 0.3595237135887146\n",
      "epoch 51, loss 0.3555087447166443\n",
      "epoch 52, loss 0.3515388071537018\n",
      "epoch 53, loss 0.3476131558418274\n",
      "epoch 54, loss 0.3437316119670868\n",
      "epoch 55, loss 0.3398931622505188\n",
      "epoch 56, loss 0.33609768748283386\n",
      "epoch 57, loss 0.3323444724082947\n",
      "epoch 58, loss 0.3286333382129669\n",
      "epoch 59, loss 0.32496345043182373\n",
      "epoch 60, loss 0.3213346600532532\n",
      "epoch 61, loss 0.31774628162384033\n",
      "epoch 62, loss 0.31419795751571655\n",
      "epoch 63, loss 0.3106895387172699\n",
      "epoch 64, loss 0.3072199523448944\n",
      "epoch 65, loss 0.3037894368171692\n",
      "epoch 66, loss 0.3003970980644226\n",
      "epoch 67, loss 0.2970426082611084\n",
      "epoch 68, loss 0.29372552037239075\n",
      "epoch 69, loss 0.290445476770401\n",
      "epoch 70, loss 0.2872021496295929\n",
      "epoch 71, loss 0.2839950621128082\n",
      "epoch 72, loss 0.2808237373828888\n",
      "epoch 73, loss 0.27768781781196594\n",
      "epoch 74, loss 0.27458691596984863\n",
      "epoch 75, loss 0.2715206444263458\n",
      "epoch 76, loss 0.2684885263442993\n",
      "epoch 77, loss 0.2654903531074524\n",
      "epoch 78, loss 0.2625258266925812\n",
      "epoch 79, loss 0.25959426164627075\n",
      "epoch 80, loss 0.25669530034065247\n",
      "epoch 81, loss 0.25382867455482483\n",
      "epoch 82, loss 0.25099432468414307\n",
      "epoch 83, loss 0.24819159507751465\n",
      "epoch 84, loss 0.24542003870010376\n",
      "epoch 85, loss 0.24267934262752533\n",
      "epoch 86, loss 0.23996950685977936\n",
      "epoch 87, loss 0.23728972673416138\n",
      "epoch 88, loss 0.234639972448349\n",
      "epoch 89, loss 0.23201976716518402\n",
      "epoch 90, loss 0.22942881286144257\n",
      "epoch 91, loss 0.22686685621738434\n",
      "epoch 92, loss 0.22433353960514069\n",
      "epoch 93, loss 0.2218284159898758\n",
      "epoch 94, loss 0.21935127675533295\n",
      "epoch 95, loss 0.21690188348293304\n",
      "epoch 96, loss 0.21447978913784027\n",
      "epoch 97, loss 0.21208468079566956\n",
      "epoch 98, loss 0.2097163051366806\n",
      "epoch 99, loss 0.20737452805042267\n",
      "epoch 100, loss 0.205058753490448\n"
     ]
    }
   ],
   "source": [
    "epochs = 100\n",
    "\n",
    "for epoch in range(epochs):\n",
    "    epoch += 1\n",
    "    \n",
    "    #Convert numpy array to torch Variable\n",
    "    inputs = Variable(torch.from_numpy(x_train))\n",
    "    labels = Variable(torch.from_numpy(y_train))\n",
    "    \n",
    "    #Clear gradient wrt params\n",
    "    optimizer.zero_grad()\n",
    "    \n",
    "    #forward pass to get output\n",
    "    outputs = model(inputs)\n",
    "    \n",
    "    #calculate loss\n",
    "    loss = criterion(outputs, labels)\n",
    "    \n",
    "    #Get gradients wrt params\n",
    "    loss.backward()\n",
    "    \n",
    "    #update params\n",
    "    optimizer.step()\n",
    "    \n",
    "    print('epoch {}, loss {}'.format(epoch, loss.data[0]))"
   ]
  },
  {
   "cell_type": "markdown",
   "metadata": {},
   "source": [
    "### Compare Results\n"
   ]
  },
  {
   "cell_type": "code",
   "execution_count": 25,
   "metadata": {},
   "outputs": [
    {
     "data": {
      "text/plain": [
       "array([[  0.15763681],\n",
       "       [  2.27894473],\n",
       "       [  4.40025234],\n",
       "       [  6.52156019],\n",
       "       [  8.64286804],\n",
       "       [ 10.76417637],\n",
       "       [ 12.88548374],\n",
       "       [ 15.00679207],\n",
       "       [ 17.12809944],\n",
       "       [ 19.24940681],\n",
       "       [ 21.37071609]], dtype=float32)"
      ]
     },
     "execution_count": 25,
     "metadata": {},
     "output_type": "execute_result"
    }
   ],
   "source": [
    "predicted = model(Variable(torch.from_numpy(x_train))).data.numpy()\n",
    "predicted"
   ]
  },
  {
   "cell_type": "code",
   "execution_count": 40,
   "metadata": {},
   "outputs": [
    {
     "data": {
      "text/plain": [
       "array([[  1.],\n",
       "       [  3.],\n",
       "       [  5.],\n",
       "       [  7.],\n",
       "       [  9.],\n",
       "       [ 11.],\n",
       "       [ 13.],\n",
       "       [ 15.],\n",
       "       [ 17.],\n",
       "       [ 19.],\n",
       "       [ 21.]], dtype=float32)"
      ]
     },
     "execution_count": 40,
     "metadata": {},
     "output_type": "execute_result"
    }
   ],
   "source": [
    "y_train"
   ]
  },
  {
   "cell_type": "markdown",
   "metadata": {},
   "source": [
    "### Visualize"
   ]
  },
  {
   "cell_type": "code",
   "execution_count": 27,
   "metadata": {},
   "outputs": [
    {
     "data": {
      "image/png": "[encoded data removed]",
      "text/plain": [
       "<matplotlib.figure.Figure at 0x111ad5668>"
      ]
     },
     "metadata": {},
     "output_type": "display_data"
    }
   ],
   "source": [
    "plt.clf()\n",
    "\n",
    "plt.plot(x_train, y_train, 'go', label='True Data', alpha = 0.5)\n",
    "\n",
    "plt.plot(x_train, predicted, '--', label='Predicted', alpha = 0.5)\n",
    "\n",
    "plt.legend(loc='best')\n",
    "plt.show()"
   ]
  },
  {
   "cell_type": "code",
   "execution_count": 46,
   "metadata": {
    "collapsed": true
   },
   "outputs": [],
   "source": [
    "### Save model\n",
    "save_model = False\n",
    "if save_model is True:\n",
    "    #saves only params\n",
    "    torch.save(model.state_dict(), 'linear_model.pk1')"
   ]
  },
  {
   "cell_type": "code",
   "execution_count": 47,
   "metadata": {
    "collapsed": true
   },
   "outputs": [],
   "source": [
    "###Load model"
   ]
  },
  {
   "cell_type": "code",
   "execution_count": 49,
   "metadata": {
    "collapsed": true
   },
   "outputs": [],
   "source": [
    "load_model = False\n",
    "if load_model is True:\n",
    "    model.load_state_dict(torch.load('linear_model.pk1'))"
   ]
  },
  {
   "cell_type": "code",
   "execution_count": null,
   "metadata": {
    "collapsed": true
   },
   "outputs": [],
   "source": []
  }
 ],
 "metadata": {
  "anaconda-cloud": {},
  "kernelspec": {
   "display_name": "Python 3",
   "language": "python",
   "name": "python3"
  },
  "language_info": {
   "codemirror_mode": {
    "name": "ipython",
    "version": 3
   },
   "file_extension": ".py",
   "mimetype": "text/x-python",
   "name": "python",
   "nbconvert_exporter": "python",
   "pygments_lexer": "ipython3",
   "version": "3.5.3"
  }
 },
 "nbformat": 4,
 "nbformat_minor": 2
}
